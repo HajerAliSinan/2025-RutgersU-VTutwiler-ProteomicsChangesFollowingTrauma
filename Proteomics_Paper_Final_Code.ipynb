{
  "nbformat": 4,
  "nbformat_minor": 0,
  "metadata": {
    "colab": {
      "provenance": []
    },
    "kernelspec": {
      "name": "python3",
      "display_name": "Python 3"
    },
    "language_info": {
      "name": "python"
    }
  },
  "cells": [
    {
      "cell_type": "markdown",
      "source": [
        "Imports"
      ],
      "metadata": {
        "id": "s1FCnl8ZNbMP"
      }
    },
    {
      "cell_type": "code",
      "source": [
        "import numpy as np\n",
        "import openpyxl\n",
        "import pandas as pd\n",
        "from openpyxl import load_workbook, Workbook\n",
        "from openpyxl.styles import PatternFill\n",
        "from openpyxl.styles import Font\n",
        "from scipy.stats import spearmanr\n",
        "import matplotlib.pyplot as plt\n",
        "import scipy\n",
        "from google.colab import files\n",
        "from sklearn.experimental import enable_iterative_imputer\n",
        "from sklearn.impute import IterativeImputer\n",
        "from sklearn.ensemble import RandomForestRegressor\n",
        "from sklearn.neighbors import KNeighborsRegressor\n",
        "\n",
        "\n",
        "from google.colab import drive\n",
        "drive.mount('/content/drive')"
      ],
      "metadata": {
        "id": "qiaQZvJxNdBK"
      },
      "execution_count": null,
      "outputs": []
    },
    {
      "cell_type": "markdown",
      "source": [
        "Preprocessing"
      ],
      "metadata": {
        "id": "WqYj9VicNQc4"
      }
    },
    {
      "cell_type": "code",
      "execution_count": null,
      "metadata": {
        "id": "NgYj7GzENMxm"
      },
      "outputs": [],
      "source": [
        "path = \"/Users/HajerSinan/Documents/Ph.D_Rutgers/Research/Olivia_Proteomics/FINAL FILES/BME_Clinical_Proteomics_Blanks_plus2310.csv\"\n",
        "raw_df = pd.read_csv(path, header=1)\n",
        "\n",
        "df = raw_df.iloc[0:61, 1:]\n",
        "print(\"Original shape:\", df.shape)\n",
        "\n",
        "# Drop columns with fewer than 5 non-zero values\n",
        "cols_to_drop = []\n",
        "for i in range(len(df.columns)):\n",
        "    num_count = df.iloc[:, i].count()\n",
        "    if num_count < 5:\n",
        "        cols_to_drop.append(df.columns[i])\n",
        "df = df.drop(cols_to_drop, axis=1)\n",
        "print(\"After dropping sparse columns:\", df.shape)\n",
        "\n",
        "df = df.applymap(lambda x: pd.to_numeric(str(x).replace('*', ''), errors='coerce'))\n",
        "missing_mask = df.isna()\n",
        "\n",
        "# Impute in column batches\n",
        "batch_size = 500\n",
        "columns = df.columns\n",
        "imputed_batches = []\n",
        "mask_batches = []\n",
        "\n",
        "for start in range(0, len(columns), batch_size):\n",
        "    end = start + batch_size\n",
        "    batch_cols = columns[start:end]\n",
        "    batch_df = df[batch_cols]\n",
        "    rf_estimator = RandomForestRegressor(n_estimators = 10, random_state=0)\n",
        "    imputer = IterativeImputer(estimator=rf_estimator, max_iter=10)\n",
        "    imputed_data = imputer.fit_transform(batch_df)\n",
        "    imputed_batch = pd.DataFrame(imputed_data, columns=batch_cols)\n",
        "\n",
        "    mask_batch = missing_mask[batch_cols]\n",
        "\n",
        "    imputed_batches.append(imputed_batch)\n",
        "    mask_batches.append(mask_batch)\n",
        "\n",
        "df_imputed = pd.concat(imputed_batches, axis=1)\n",
        "mask_combined = pd.concat(mask_batches, axis=1)\n",
        "df_imputed = df_imputed[df.columns]\n",
        "mask_combined = mask_combined[df.columns]\n",
        "\n",
        "# Export to Excel and highlight imputed values\n",
        "output_path = \"/Users/HajerSinan/Documents/Python Workspace/imputed_data_highlighted_7.28.25.xlsx\"\n",
        "df_imputed_rounded = df_imputed.round(3)\n",
        "df_imputed_rounded.to_excel(output_path, index=False)\n",
        "\n",
        "\n",
        "## HIGHLIGHTING IMPUTATION\n",
        "\n",
        "# Open with openpyxl to highlight\n",
        "wb = openpyxl.load_workbook(output_path)\n",
        "ws = wb.active\n",
        "\n",
        "# Yellow fill for imputed values\n",
        "fill = PatternFill(start_color=\"FFFF00\", end_color=\"FFFF00\", fill_type=\"solid\")\n",
        "\n",
        "for row in range(mask_combined.shape[0]):\n",
        "    for col in range(mask_combined.shape[1]):\n",
        "        if mask_combined.iloc[row, col]:\n",
        "            cell = ws.cell(row=row+2, column=col+1)  # +2 due to header and 1-indexing\n",
        "            cell.fill = fill\n",
        "\n",
        "wb.save(output_path)\n",
        "print(f\"Imputed Excel saved to: {output_path}\")\n",
        "\n",
        "\n"
      ]
    },
    {
      "cell_type": "markdown",
      "source": [
        "Correlation"
      ],
      "metadata": {
        "id": "4Us5CUZfNjtk"
      }
    },
    {
      "cell_type": "code",
      "source": [
        "uploaded = files.upload()\n",
        "filename = list(uploaded.keys())[0]\n",
        "df = pd.read_excel(filename, engine=\"openpyxl\")\n",
        "\n",
        "\n",
        "spearman_corr, p_vals = scipy.stats.spearmanr(df)\n",
        "p_x, p_y = p_vals.shape\n",
        "\n",
        "# Thresholds\n",
        "pval_threshold = 0.05\n",
        "corr_very_strong = 0.7\n",
        "corr_strong = 0.5\n",
        "corr_moderate = 0.3\n",
        "\n",
        "very_strong = PatternFill(start_color=\"00008B\", end_color=\"00008B\", fill_type=\"solid\")  # Dark Blue\n",
        "strong = PatternFill(start_color=\"4169E1\", end_color=\"4169E1\", fill_type=\"solid\")        # Royal Blue\n",
        "moderate = PatternFill(start_color=\"87CEFA\", end_color=\"87CEFA\", fill_type=\"solid\")      # Light Sky Blue\n",
        "weak = PatternFill(start_color=\"B0E0E6\", end_color=\"B0E0E6\", fill_type=\"solid\")           # Powder Blue\n",
        "\n",
        "\n",
        "valid_mask = ~((p_vals == 0) & (np.abs(spearman_corr) == 1))\n",
        "\n",
        "very_strong_mask = valid_mask & (p_vals < pval_threshold) & (np.abs(spearman_corr) > corr_very_strong)\n",
        "strong_mask = valid_mask & (p_vals < pval_threshold) & (np.abs(spearman_corr) > corr_strong) & (np.abs(spearman_corr) <= corr_very_strong)\n",
        "moderate_mask = valid_mask & (p_vals < pval_threshold) & (np.abs(spearman_corr) > corr_moderate) & (np.abs(spearman_corr) <= corr_strong)\n",
        "weak_mask = valid_mask & (p_vals < pval_threshold) & (np.abs(spearman_corr) <= corr_moderate)\n",
        "\n",
        "\n",
        "headers = df.columns.tolist()\n",
        "\n",
        "# Defining writer function\n",
        "def format_and_save_excel(matrix, filename, apply_pvals=False, is_logp=False):\n",
        "    wb = Workbook()\n",
        "    ws = wb.active\n",
        "\n",
        "    # Insert headers\n",
        "    ws.cell(row=1, column=1).value = \"\"\n",
        "    for j, header in enumerate(headers):\n",
        "        ws.cell(row=1, column=j+2, value=header).font = Font(bold=True)\n",
        "        ws.cell(row=j+2, column=1, value=header).font = Font(bold=True)\n",
        "\n",
        "    # Insert values and apply formatting\n",
        "    for i in range(p_y):\n",
        "        for j in range(p_x):\n",
        "            if apply_pvals:\n",
        "                val = f\"{spearman_corr[i, j]:.2f} ({p_vals[i, j]:.8f})\"\n",
        "            elif is_logp:\n",
        "                val = -np.log10(p_vals[i, j]) if p_vals[i, j] > 0 else np.nan\n",
        "            else:\n",
        "                val = matrix[i, j]\n",
        "            cell = ws.cell(row=i+2, column=j+2, value=val)\n",
        "\n",
        "            # Apply highlighting\n",
        "            if very_strong_mask[i, j]:\n",
        "                cell.fill = very_strong\n",
        "            elif strong_mask[i, j]:\n",
        "                cell.fill = strong\n",
        "            elif moderate_mask[i, j]:\n",
        "                cell.fill = moderate\n",
        "            elif weak_mask[i, j]:\n",
        "                cell.fill = weak\n",
        "\n",
        "    wb.save(filename)\n",
        "\n",
        "\n",
        "correlation_matrix_7_28_25 = format_and_save_excel(None, \"correlation_matrix_7.28.25.xlsx\", apply_pvals=True)\n",
        "correlation_r_values_7_28_25 = format_and_save_excel(spearman_corr, \"correlation_r_values_7.28.25.xlsx\")\n",
        "correlation_p_values_7_28_25 = format_and_save_excel(p_vals, \"correlation_p_values_7.28.25.xlsx\")\n",
        "correlation_neglogp_values_7_28_25 = format_and_save_excel(None, \"correlation_neglogp_values_7.28.25.xlsx\", is_logp=True)\n"
      ],
      "metadata": {
        "id": "J1mqsU6nNqPP"
      },
      "execution_count": null,
      "outputs": []
    }
  ]
}